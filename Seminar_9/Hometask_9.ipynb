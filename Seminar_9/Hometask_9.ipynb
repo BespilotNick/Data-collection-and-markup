{
 "cells": [
  {
   "cell_type": "markdown",
   "metadata": {},
   "source": [
    " Задание 1. \n",
    " Выберите датасет, который имеет отношение к вашей области интересов или исследований. Датасет должен содержать неструктурированные данные, требующие разметки для решения конкретной задачи, например, анализа настроений или распознавания именованных сущностей.\n",
    "\n",
    "\n",
    " Задание 2.\n",
    " \n",
    " Выполните разметку на основе правил (rule-based labeling) на подмножестве выбранного датасета. Разработайте и реализуйте набор правил или условий, которые позволят автоматически присваивать метки данным на основе определенных шаблонов или критериев.\n",
    "\n",
    "\n",
    " Задача 3.\n",
    "\n",
    "Выполните разметку вручную отдельного подмножества выбранного датасета с помощью выбранного вами инструмента разметки.\n",
    "\n",
    "\n",
    " Задача 4.\n",
    "\n",
    "Объедините данные, размеченные вручную, с данными, размеченными на основе правил. Объедините два подмножества размеченных данных в один набор данных, сохранив при этом соответствующую структуру и целостность.\n",
    "\n",
    "\n",
    " Задача 5.\n",
    "\n",
    "Обучите модель машинного обучения, используя объединенный набор размеченных данных. Разделите датасет на обучающий и тестовый наборы и используйте обучающий набор для обучения модели.\n",
    "\n",
    "\n",
    " Задача 6.\n",
    "\n",
    "Оценить эффективность обученной модели на тестовом датасете. Используйте подходящие метрики оценки. Интерпретируйте результаты и проанализируйте эффективность модели в решении задачи разметки."
   ]
  },
  {
   "cell_type": "code",
   "execution_count": 2,
   "metadata": {},
   "outputs": [],
   "source": [
    "import pandas as pd\n",
    "import numpy as np\n",
    "from sklearn.preprocessing import LabelEncoder, StandardScaler\n",
    "from sklearn.model_selection import train_test_split                # разделение данных на обучающую и тестовую части\n",
    "from sklearn.feature_extraction.text import TfidfVectorizer         # преобразование текста в вектор\n",
    "from sklearn.linear_model import LogisticRegression                 # использование модели логистической регрессии\n",
    "from sklearn.metrics import accuracy_score, classification_report   # оценка производительности модели\n",
    "from sklearn.pipeline import Pipeline                               # конвеер обработки данных\n",
    "from sklearn.metrics import f1_score\n",
    "from sklearn.utils import shuffle"
   ]
  },
  {
   "cell_type": "markdown",
   "metadata": {},
   "source": [
    "Загружаем в Pandas датасет "
   ]
  },
  {
   "cell_type": "code",
   "execution_count": 225,
   "metadata": {},
   "outputs": [],
   "source": [
    "df = pd.read_csv('medical_tc_train.csv', engine='python', encoding='utf-8', on_bad_lines='skip', encoding_errors='ignore')"
   ]
  },
  {
   "cell_type": "markdown",
   "metadata": {},
   "source": [
    "Смотрим параметры датасета"
   ]
  },
  {
   "cell_type": "code",
   "execution_count": 226,
   "metadata": {},
   "outputs": [
    {
     "name": "stdout",
     "output_type": "stream",
     "text": [
      "<class 'pandas.core.frame.DataFrame'>\n",
      "RangeIndex: 11550 entries, 0 to 11549\n",
      "Data columns (total 2 columns):\n",
      " #   Column            Non-Null Count  Dtype \n",
      "---  ------            --------------  ----- \n",
      " 0   condition_label   11550 non-null  int64 \n",
      " 1   medical_abstract  11550 non-null  object\n",
      "dtypes: int64(1), object(1)\n",
      "memory usage: 180.6+ KB\n"
     ]
    }
   ],
   "source": [
    "df.info()"
   ]
  },
  {
   "cell_type": "code",
   "execution_count": 227,
   "metadata": {},
   "outputs": [
    {
     "data": {
      "text/html": [
       "<div>\n",
       "<style scoped>\n",
       "    .dataframe tbody tr th:only-of-type {\n",
       "        vertical-align: middle;\n",
       "    }\n",
       "\n",
       "    .dataframe tbody tr th {\n",
       "        vertical-align: top;\n",
       "    }\n",
       "\n",
       "    .dataframe thead th {\n",
       "        text-align: right;\n",
       "    }\n",
       "</style>\n",
       "<table border=\"1\" class=\"dataframe\">\n",
       "  <thead>\n",
       "    <tr style=\"text-align: right;\">\n",
       "      <th></th>\n",
       "      <th>condition_label</th>\n",
       "    </tr>\n",
       "  </thead>\n",
       "  <tbody>\n",
       "    <tr>\n",
       "      <th>count</th>\n",
       "      <td>11550.000000</td>\n",
       "    </tr>\n",
       "    <tr>\n",
       "      <th>mean</th>\n",
       "      <td>3.335411</td>\n",
       "    </tr>\n",
       "    <tr>\n",
       "      <th>std</th>\n",
       "      <td>1.552404</td>\n",
       "    </tr>\n",
       "    <tr>\n",
       "      <th>min</th>\n",
       "      <td>1.000000</td>\n",
       "    </tr>\n",
       "    <tr>\n",
       "      <th>25%</th>\n",
       "      <td>2.000000</td>\n",
       "    </tr>\n",
       "    <tr>\n",
       "      <th>50%</th>\n",
       "      <td>4.000000</td>\n",
       "    </tr>\n",
       "    <tr>\n",
       "      <th>75%</th>\n",
       "      <td>5.000000</td>\n",
       "    </tr>\n",
       "    <tr>\n",
       "      <th>max</th>\n",
       "      <td>5.000000</td>\n",
       "    </tr>\n",
       "  </tbody>\n",
       "</table>\n",
       "</div>"
      ],
      "text/plain": [
       "       condition_label\n",
       "count     11550.000000\n",
       "mean          3.335411\n",
       "std           1.552404\n",
       "min           1.000000\n",
       "25%           2.000000\n",
       "50%           4.000000\n",
       "75%           5.000000\n",
       "max           5.000000"
      ]
     },
     "execution_count": 227,
     "metadata": {},
     "output_type": "execute_result"
    }
   ],
   "source": [
    "df.describe()"
   ]
  },
  {
   "cell_type": "code",
   "execution_count": 228,
   "metadata": {},
   "outputs": [
    {
     "data": {
      "text/plain": [
       "(11550, 2)"
      ]
     },
     "execution_count": 228,
     "metadata": {},
     "output_type": "execute_result"
    }
   ],
   "source": [
    "df.shape"
   ]
  },
  {
   "cell_type": "code",
   "execution_count": 229,
   "metadata": {},
   "outputs": [
    {
     "data": {
      "text/plain": [
       "array([[<Axes: title={'center': 'condition_label'}>]], dtype=object)"
      ]
     },
     "execution_count": 229,
     "metadata": {},
     "output_type": "execute_result"
    },
    {
     "data": {
      "image/png": "[encoded data removed]",
      "text/plain": [
       "<Figure size 640x480 with 1 Axes>"
      ]
     },
     "metadata": {},
     "output_type": "display_data"
    }
   ],
   "source": [
    "df.hist()"
   ]
  },
  {
   "cell_type": "markdown",
   "metadata": {},
   "source": [
    "Перемешиваем датасет"
   ]
  },
  {
   "cell_type": "code",
   "execution_count": 230,
   "metadata": {},
   "outputs": [],
   "source": [
    "df = shuffle(df)"
   ]
  },
  {
   "cell_type": "markdown",
   "metadata": {},
   "source": [
    "Делим датасет на 2 части: первая - для ручной разметки, вторая - для разметки на основе правил."
   ]
  },
  {
   "cell_type": "code",
   "execution_count": 231,
   "metadata": {},
   "outputs": [],
   "source": [
    "manual_sample, rules_sample = train_test_split(df, train_size=0.01, random_state=42)"
   ]
  },
  {
   "cell_type": "markdown",
   "metadata": {},
   "source": [
    "Сохраняем оба датасета в формате csv (для удобства дальнейшей работы)"
   ]
  },
  {
   "cell_type": "markdown",
   "metadata": {},
   "source": [
    "Следующая ячейка кода необходима для сохранения исходного распределения датасета и предотвращения изменения количества строк и появления дубликатов при последующем объединении этих выборок после ручногй разметки в Label Studio и разметки на основе правил, которые взникали из-за неоднократного перезапуска всех ячеек в процессе работы (ручная разметка даже 115 статей занимает много времени).\n",
    "В исходном варианте кода запись сплитованных датасетов осуществлялось сразу после их разделения."
   ]
  },
  {
   "cell_type": "code",
   "execution_count": 236,
   "metadata": {},
   "outputs": [],
   "source": [
    "exclude = pd.read_csv('ls_labeled.csv')\n",
    "exclude.drop(['annotation_id', 'annotator', 'created_at', 'id', 'lead_time', 'updated_at', 'sentiment'], axis=1, inplace=True)\n",
    "comon_sample = pd.concat([df, exclude])\n",
    "manual_sample = comon_sample[comon_sample.duplicated()]\n",
    "comon_sample.drop_duplicates(keep=False, inplace=True)\n",
    "rules_sample = comon_sample"
   ]
  },
  {
   "cell_type": "code",
   "execution_count": 238,
   "metadata": {},
   "outputs": [],
   "source": [
    "manual_sample.to_csv('manual_sample.csv', index=False)\n",
    "rules_sample.to_csv('rules_sample.csv', index=False)"
   ]
  },
  {
   "cell_type": "markdown",
   "metadata": {},
   "source": [
    "Проводим разметку на основе правил."
   ]
  },
  {
   "cell_type": "code",
   "execution_count": 239,
   "metadata": {},
   "outputs": [],
   "source": [
    "df_rule = pd.read_csv('rules_sample.csv')"
   ]
  },
  {
   "cell_type": "code",
   "execution_count": 240,
   "metadata": {},
   "outputs": [
    {
     "data": {
      "text/plain": [
       "(11435, 2)"
      ]
     },
     "execution_count": 240,
     "metadata": {},
     "output_type": "execute_result"
    }
   ],
   "source": [
    "df_rule.shape"
   ]
  },
  {
   "cell_type": "code",
   "execution_count": 241,
   "metadata": {},
   "outputs": [],
   "source": [
    "neoplasms_list = ['neoplas', 'tumor', 'cancer', 'lymphom', 'blastoma', 'malign', 'benign', 'melanom', 'leukemi', 'metasta', 'carcinom', 'pheochromocytoma', 'teratoma', 'noma']\n",
    "\n",
    "digestive_list = ['digestive', 'esophag', 'stomach', 'gastr', 'liver', 'cirrhosis', 'hepati', 'pancrea', 'intestin', 'sigmo', 'recto', 'rectu', 'cholecyst', 'gallbladder', \n",
    "                  'portal pressure', 'portal hypertension', 'appendic', 'ulcer', 'bowel']\n",
    "\n",
    "neuro_list = ['neuro', 'nerv', 'reflex', 'brain', 'cerebr', 'white matter', 'subcort', 'plegi', 'intrathec', 'medulla', 'mening']\n",
    "\n",
    "cardio_list = ['cardi', 'heart', 'vascul', 'embolism', 'stroke', 'reperfus', 'thromboly', 'ischemi', 'hypercholesterolemia', 'hyperten', 'blood pressure', \n",
    "               'valv', 'ventric', 'aneurysm', 'coronar', 'arter', 'aort', 'electrocardiogra', 'arrhythm', 'clot', 'mitral', 'endocard', 'hypertension', 'myocardial', 'infarction',\n",
    "               'cardiover', 'fibrillat', 'bypass']"
   ]
  },
  {
   "cell_type": "code",
   "execution_count": 242,
   "metadata": {},
   "outputs": [],
   "source": [
    "def rb_labeling(text):\n",
    "    row = text.lower()\n",
    "    res_dict = {\n",
    "        'neoplasms': 0,\n",
    "        'digestive system diseases': 0,\n",
    "        'nervous system diseases': 0,\n",
    "        'cardiovascular diseases': 0\n",
    "    }\n",
    "    for p in neoplasms_list:\n",
    "        res_dict['neoplasms'] += row.count(p)\n",
    "    for d in digestive_list:\n",
    "        res_dict['digestive system diseases'] += row.count(d)\n",
    "    for n in neuro_list:\n",
    "        res_dict['nervous system diseases'] += row.count(n)\n",
    "    for c in cardio_list:\n",
    "        res_dict['cardiovascular diseases'] += row.count(c)\n",
    "    \n",
    "    most_frequent = max(res_dict.values())\n",
    "    divisor = sum(res_dict.values())\n",
    "    if divisor > 0 and (most_frequent / divisor) > 0.3:\n",
    "        for key, value in res_dict.items(): \n",
    "            if value == most_frequent:\n",
    "                return key\n",
    "    else:\n",
    "        return 'general pathological conditions'\n",
    "    "
   ]
  },
  {
   "cell_type": "code",
   "execution_count": 243,
   "metadata": {},
   "outputs": [],
   "source": [
    "df_rule['rule based condition name'] = df_rule['medical_abstract'].apply(rb_labeling)"
   ]
  },
  {
   "cell_type": "code",
   "execution_count": 244,
   "metadata": {},
   "outputs": [
    {
     "data": {
      "text/html": [
       "<div>\n",
       "<style scoped>\n",
       "    .dataframe tbody tr th:only-of-type {\n",
       "        vertical-align: middle;\n",
       "    }\n",
       "\n",
       "    .dataframe tbody tr th {\n",
       "        vertical-align: top;\n",
       "    }\n",
       "\n",
       "    .dataframe thead th {\n",
       "        text-align: right;\n",
       "    }\n",
       "</style>\n",
       "<table border=\"1\" class=\"dataframe\">\n",
       "  <thead>\n",
       "    <tr style=\"text-align: right;\">\n",
       "      <th></th>\n",
       "      <th>condition_label</th>\n",
       "      <th>medical_abstract</th>\n",
       "      <th>rule based condition name</th>\n",
       "    </tr>\n",
       "  </thead>\n",
       "  <tbody>\n",
       "    <tr>\n",
       "      <th>0</th>\n",
       "      <td>4</td>\n",
       "      <td>The incidence of deep vein thrombosis after ce...</td>\n",
       "      <td>cardiovascular diseases</td>\n",
       "    </tr>\n",
       "    <tr>\n",
       "      <th>1</th>\n",
       "      <td>5</td>\n",
       "      <td>Adult height in boys and girls with untreated ...</td>\n",
       "      <td>general pathological conditions</td>\n",
       "    </tr>\n",
       "    <tr>\n",
       "      <th>2</th>\n",
       "      <td>5</td>\n",
       "      <td>Palliative treatment of bile duct tumoral comp...</td>\n",
       "      <td>neoplasms</td>\n",
       "    </tr>\n",
       "    <tr>\n",
       "      <th>3</th>\n",
       "      <td>5</td>\n",
       "      <td>Eclampsia. Early detection and hospitalization...</td>\n",
       "      <td>digestive system diseases</td>\n",
       "    </tr>\n",
       "    <tr>\n",
       "      <th>4</th>\n",
       "      <td>1</td>\n",
       "      <td>Efficacy of transesophageal echocardiography a...</td>\n",
       "      <td>cardiovascular diseases</td>\n",
       "    </tr>\n",
       "  </tbody>\n",
       "</table>\n",
       "</div>"
      ],
      "text/plain": [
       "   condition_label                                   medical_abstract  \\\n",
       "0                4  The incidence of deep vein thrombosis after ce...   \n",
       "1                5  Adult height in boys and girls with untreated ...   \n",
       "2                5  Palliative treatment of bile duct tumoral comp...   \n",
       "3                5  Eclampsia. Early detection and hospitalization...   \n",
       "4                1  Efficacy of transesophageal echocardiography a...   \n",
       "\n",
       "         rule based condition name  \n",
       "0          cardiovascular diseases  \n",
       "1  general pathological conditions  \n",
       "2                        neoplasms  \n",
       "3        digestive system diseases  \n",
       "4          cardiovascular diseases  "
      ]
     },
     "execution_count": 244,
     "metadata": {},
     "output_type": "execute_result"
    }
   ],
   "source": [
    "df_rule.head()"
   ]
  },
  {
   "cell_type": "markdown",
   "metadata": {},
   "source": [
    "Ручную разметку выборки выдержек из медицинских статей в размере 135 шт (0,01 от всего датасета) я провел с использованием Label Studio. \n",
    "Результат разметки сохранен в текущую директорию с именем ls_labeled.csv."
   ]
  },
  {
   "cell_type": "markdown",
   "metadata": {},
   "source": [
    "Далее необходимо объединить два размеченных датасета.\n",
    "Для этого загрузим размеченный вручную датасет и посмотрим его структуру."
   ]
  },
  {
   "cell_type": "code",
   "execution_count": 247,
   "metadata": {},
   "outputs": [
    {
     "data": {
      "text/html": [
       "<div>\n",
       "<style scoped>\n",
       "    .dataframe tbody tr th:only-of-type {\n",
       "        vertical-align: middle;\n",
       "    }\n",
       "\n",
       "    .dataframe tbody tr th {\n",
       "        vertical-align: top;\n",
       "    }\n",
       "\n",
       "    .dataframe thead th {\n",
       "        text-align: right;\n",
       "    }\n",
       "</style>\n",
       "<table border=\"1\" class=\"dataframe\">\n",
       "  <thead>\n",
       "    <tr style=\"text-align: right;\">\n",
       "      <th></th>\n",
       "      <th>annotation_id</th>\n",
       "      <th>annotator</th>\n",
       "      <th>condition_label</th>\n",
       "      <th>created_at</th>\n",
       "      <th>id</th>\n",
       "      <th>lead_time</th>\n",
       "      <th>medical_abstract</th>\n",
       "      <th>sentiment</th>\n",
       "      <th>updated_at</th>\n",
       "    </tr>\n",
       "  </thead>\n",
       "  <tbody>\n",
       "    <tr>\n",
       "      <th>0</th>\n",
       "      <td>5</td>\n",
       "      <td>1</td>\n",
       "      <td>3</td>\n",
       "      <td>2024-04-06T20:17:30.099449Z</td>\n",
       "      <td>1</td>\n",
       "      <td>520.593</td>\n",
       "      <td>Quantifying language development from birth to...</td>\n",
       "      <td>nervous system diseases</td>\n",
       "      <td>2024-04-06T20:18:04.237342Z</td>\n",
       "    </tr>\n",
       "    <tr>\n",
       "      <th>1</th>\n",
       "      <td>6</td>\n",
       "      <td>1</td>\n",
       "      <td>3</td>\n",
       "      <td>2024-04-06T20:18:41.585714Z</td>\n",
       "      <td>2</td>\n",
       "      <td>10.603</td>\n",
       "      <td>Accessory arm--dysraphism or disparity? Case r...</td>\n",
       "      <td>digestive system diseases</td>\n",
       "      <td>2024-04-06T20:18:41.586826Z</td>\n",
       "    </tr>\n",
       "    <tr>\n",
       "      <th>2</th>\n",
       "      <td>7</td>\n",
       "      <td>1</td>\n",
       "      <td>1</td>\n",
       "      <td>2024-04-06T20:19:19.253793Z</td>\n",
       "      <td>3</td>\n",
       "      <td>30.304</td>\n",
       "      <td>The dichotomous distribution of gastrinomas. O...</td>\n",
       "      <td>neoplasms</td>\n",
       "      <td>2024-04-06T20:19:19.253793Z</td>\n",
       "    </tr>\n",
       "    <tr>\n",
       "      <th>3</th>\n",
       "      <td>8</td>\n",
       "      <td>1</td>\n",
       "      <td>5</td>\n",
       "      <td>2024-04-06T20:19:53.833237Z</td>\n",
       "      <td>4</td>\n",
       "      <td>26.009</td>\n",
       "      <td>Coronary angioplasty after coronary bypass sur...</td>\n",
       "      <td>cardiovascular diseases</td>\n",
       "      <td>2024-04-06T20:19:53.833237Z</td>\n",
       "    </tr>\n",
       "    <tr>\n",
       "      <th>4</th>\n",
       "      <td>9</td>\n",
       "      <td>1</td>\n",
       "      <td>4</td>\n",
       "      <td>2024-04-06T20:21:38.110782Z</td>\n",
       "      <td>5</td>\n",
       "      <td>101.586</td>\n",
       "      <td>A positron emission tomographic comparison of ...</td>\n",
       "      <td>general pathological conditions</td>\n",
       "      <td>2024-04-06T20:21:38.110782Z</td>\n",
       "    </tr>\n",
       "  </tbody>\n",
       "</table>\n",
       "</div>"
      ],
      "text/plain": [
       "   annotation_id  annotator  condition_label                   created_at  id  \\\n",
       "0              5          1                3  2024-04-06T20:17:30.099449Z   1   \n",
       "1              6          1                3  2024-04-06T20:18:41.585714Z   2   \n",
       "2              7          1                1  2024-04-06T20:19:19.253793Z   3   \n",
       "3              8          1                5  2024-04-06T20:19:53.833237Z   4   \n",
       "4              9          1                4  2024-04-06T20:21:38.110782Z   5   \n",
       "\n",
       "   lead_time                                   medical_abstract  \\\n",
       "0    520.593  Quantifying language development from birth to...   \n",
       "1     10.603  Accessory arm--dysraphism or disparity? Case r...   \n",
       "2     30.304  The dichotomous distribution of gastrinomas. O...   \n",
       "3     26.009  Coronary angioplasty after coronary bypass sur...   \n",
       "4    101.586  A positron emission tomographic comparison of ...   \n",
       "\n",
       "                         sentiment                   updated_at  \n",
       "0          nervous system diseases  2024-04-06T20:18:04.237342Z  \n",
       "1        digestive system diseases  2024-04-06T20:18:41.586826Z  \n",
       "2                        neoplasms  2024-04-06T20:19:19.253793Z  \n",
       "3          cardiovascular diseases  2024-04-06T20:19:53.833237Z  \n",
       "4  general pathological conditions  2024-04-06T20:21:38.110782Z  "
      ]
     },
     "execution_count": 247,
     "metadata": {},
     "output_type": "execute_result"
    }
   ],
   "source": [
    "df_manual = pd.read_csv('ls_labeled.csv')\n",
    "df_manual.head()"
   ]
  },
  {
   "cell_type": "markdown",
   "metadata": {},
   "source": [
    "Для объединения датасетов приведем датасет созданный label studio к соответствующему виду:"
   ]
  },
  {
   "cell_type": "code",
   "execution_count": 248,
   "metadata": {},
   "outputs": [
    {
     "data": {
      "text/html": [
       "<div>\n",
       "<style scoped>\n",
       "    .dataframe tbody tr th:only-of-type {\n",
       "        vertical-align: middle;\n",
       "    }\n",
       "\n",
       "    .dataframe tbody tr th {\n",
       "        vertical-align: top;\n",
       "    }\n",
       "\n",
       "    .dataframe thead th {\n",
       "        text-align: right;\n",
       "    }\n",
       "</style>\n",
       "<table border=\"1\" class=\"dataframe\">\n",
       "  <thead>\n",
       "    <tr style=\"text-align: right;\">\n",
       "      <th></th>\n",
       "      <th>condition_label</th>\n",
       "      <th>medical_abstract</th>\n",
       "      <th>sentiment</th>\n",
       "    </tr>\n",
       "  </thead>\n",
       "  <tbody>\n",
       "    <tr>\n",
       "      <th>0</th>\n",
       "      <td>3</td>\n",
       "      <td>Quantifying language development from birth to...</td>\n",
       "      <td>nervous system diseases</td>\n",
       "    </tr>\n",
       "    <tr>\n",
       "      <th>1</th>\n",
       "      <td>3</td>\n",
       "      <td>Accessory arm--dysraphism or disparity? Case r...</td>\n",
       "      <td>digestive system diseases</td>\n",
       "    </tr>\n",
       "    <tr>\n",
       "      <th>2</th>\n",
       "      <td>1</td>\n",
       "      <td>The dichotomous distribution of gastrinomas. O...</td>\n",
       "      <td>neoplasms</td>\n",
       "    </tr>\n",
       "    <tr>\n",
       "      <th>3</th>\n",
       "      <td>5</td>\n",
       "      <td>Coronary angioplasty after coronary bypass sur...</td>\n",
       "      <td>cardiovascular diseases</td>\n",
       "    </tr>\n",
       "    <tr>\n",
       "      <th>4</th>\n",
       "      <td>4</td>\n",
       "      <td>A positron emission tomographic comparison of ...</td>\n",
       "      <td>general pathological conditions</td>\n",
       "    </tr>\n",
       "  </tbody>\n",
       "</table>\n",
       "</div>"
      ],
      "text/plain": [
       "   condition_label                                   medical_abstract  \\\n",
       "0                3  Quantifying language development from birth to...   \n",
       "1                3  Accessory arm--dysraphism or disparity? Case r...   \n",
       "2                1  The dichotomous distribution of gastrinomas. O...   \n",
       "3                5  Coronary angioplasty after coronary bypass sur...   \n",
       "4                4  A positron emission tomographic comparison of ...   \n",
       "\n",
       "                         sentiment  \n",
       "0          nervous system diseases  \n",
       "1        digestive system diseases  \n",
       "2                        neoplasms  \n",
       "3          cardiovascular diseases  \n",
       "4  general pathological conditions  "
      ]
     },
     "execution_count": 248,
     "metadata": {},
     "output_type": "execute_result"
    }
   ],
   "source": [
    "df_manual.drop(['annotation_id', 'annotator', 'created_at', 'id', 'lead_time', 'updated_at'], axis=1, inplace=True)\n",
    "df_manual.head()"
   ]
  },
  {
   "cell_type": "markdown",
   "metadata": {},
   "source": [
    "Столбцы с выполненной разметкой в обоих датасетах назовем одинаково:"
   ]
  },
  {
   "cell_type": "code",
   "execution_count": 251,
   "metadata": {},
   "outputs": [],
   "source": [
    "df_rule.rename(columns={'rule based condition name': 'labeled condition name'}, inplace=True)\n",
    "df_manual.rename(columns={'sentiment': 'labeled condition name'}, inplace=True)"
   ]
  },
  {
   "cell_type": "code",
   "execution_count": 252,
   "metadata": {},
   "outputs": [
    {
     "data": {
      "text/html": [
       "<div>\n",
       "<style scoped>\n",
       "    .dataframe tbody tr th:only-of-type {\n",
       "        vertical-align: middle;\n",
       "    }\n",
       "\n",
       "    .dataframe tbody tr th {\n",
       "        vertical-align: top;\n",
       "    }\n",
       "\n",
       "    .dataframe thead th {\n",
       "        text-align: right;\n",
       "    }\n",
       "</style>\n",
       "<table border=\"1\" class=\"dataframe\">\n",
       "  <thead>\n",
       "    <tr style=\"text-align: right;\">\n",
       "      <th></th>\n",
       "      <th>condition_label</th>\n",
       "      <th>medical_abstract</th>\n",
       "      <th>labeled condition name</th>\n",
       "    </tr>\n",
       "  </thead>\n",
       "  <tbody>\n",
       "    <tr>\n",
       "      <th>0</th>\n",
       "      <td>4</td>\n",
       "      <td>The incidence of deep vein thrombosis after ce...</td>\n",
       "      <td>cardiovascular diseases</td>\n",
       "    </tr>\n",
       "    <tr>\n",
       "      <th>1</th>\n",
       "      <td>5</td>\n",
       "      <td>Adult height in boys and girls with untreated ...</td>\n",
       "      <td>general pathological conditions</td>\n",
       "    </tr>\n",
       "    <tr>\n",
       "      <th>2</th>\n",
       "      <td>5</td>\n",
       "      <td>Palliative treatment of bile duct tumoral comp...</td>\n",
       "      <td>neoplasms</td>\n",
       "    </tr>\n",
       "    <tr>\n",
       "      <th>3</th>\n",
       "      <td>5</td>\n",
       "      <td>Eclampsia. Early detection and hospitalization...</td>\n",
       "      <td>digestive system diseases</td>\n",
       "    </tr>\n",
       "    <tr>\n",
       "      <th>4</th>\n",
       "      <td>1</td>\n",
       "      <td>Efficacy of transesophageal echocardiography a...</td>\n",
       "      <td>cardiovascular diseases</td>\n",
       "    </tr>\n",
       "  </tbody>\n",
       "</table>\n",
       "</div>"
      ],
      "text/plain": [
       "   condition_label                                   medical_abstract  \\\n",
       "0                4  The incidence of deep vein thrombosis after ce...   \n",
       "1                5  Adult height in boys and girls with untreated ...   \n",
       "2                5  Palliative treatment of bile duct tumoral comp...   \n",
       "3                5  Eclampsia. Early detection and hospitalization...   \n",
       "4                1  Efficacy of transesophageal echocardiography a...   \n",
       "\n",
       "            labeled condition name  \n",
       "0          cardiovascular diseases  \n",
       "1  general pathological conditions  \n",
       "2                        neoplasms  \n",
       "3        digestive system diseases  \n",
       "4          cardiovascular diseases  "
      ]
     },
     "execution_count": 252,
     "metadata": {},
     "output_type": "execute_result"
    }
   ],
   "source": [
    "df_rule.head()"
   ]
  },
  {
   "cell_type": "code",
   "execution_count": 253,
   "metadata": {},
   "outputs": [
    {
     "data": {
      "text/html": [
       "<div>\n",
       "<style scoped>\n",
       "    .dataframe tbody tr th:only-of-type {\n",
       "        vertical-align: middle;\n",
       "    }\n",
       "\n",
       "    .dataframe tbody tr th {\n",
       "        vertical-align: top;\n",
       "    }\n",
       "\n",
       "    .dataframe thead th {\n",
       "        text-align: right;\n",
       "    }\n",
       "</style>\n",
       "<table border=\"1\" class=\"dataframe\">\n",
       "  <thead>\n",
       "    <tr style=\"text-align: right;\">\n",
       "      <th></th>\n",
       "      <th>condition_label</th>\n",
       "      <th>medical_abstract</th>\n",
       "      <th>labeled condition name</th>\n",
       "    </tr>\n",
       "  </thead>\n",
       "  <tbody>\n",
       "    <tr>\n",
       "      <th>0</th>\n",
       "      <td>3</td>\n",
       "      <td>Quantifying language development from birth to...</td>\n",
       "      <td>nervous system diseases</td>\n",
       "    </tr>\n",
       "    <tr>\n",
       "      <th>1</th>\n",
       "      <td>3</td>\n",
       "      <td>Accessory arm--dysraphism or disparity? Case r...</td>\n",
       "      <td>digestive system diseases</td>\n",
       "    </tr>\n",
       "    <tr>\n",
       "      <th>2</th>\n",
       "      <td>1</td>\n",
       "      <td>The dichotomous distribution of gastrinomas. O...</td>\n",
       "      <td>neoplasms</td>\n",
       "    </tr>\n",
       "    <tr>\n",
       "      <th>3</th>\n",
       "      <td>5</td>\n",
       "      <td>Coronary angioplasty after coronary bypass sur...</td>\n",
       "      <td>cardiovascular diseases</td>\n",
       "    </tr>\n",
       "    <tr>\n",
       "      <th>4</th>\n",
       "      <td>4</td>\n",
       "      <td>A positron emission tomographic comparison of ...</td>\n",
       "      <td>general pathological conditions</td>\n",
       "    </tr>\n",
       "  </tbody>\n",
       "</table>\n",
       "</div>"
      ],
      "text/plain": [
       "   condition_label                                   medical_abstract  \\\n",
       "0                3  Quantifying language development from birth to...   \n",
       "1                3  Accessory arm--dysraphism or disparity? Case r...   \n",
       "2                1  The dichotomous distribution of gastrinomas. O...   \n",
       "3                5  Coronary angioplasty after coronary bypass sur...   \n",
       "4                4  A positron emission tomographic comparison of ...   \n",
       "\n",
       "            labeled condition name  \n",
       "0          nervous system diseases  \n",
       "1        digestive system diseases  \n",
       "2                        neoplasms  \n",
       "3          cardiovascular diseases  \n",
       "4  general pathological conditions  "
      ]
     },
     "execution_count": 253,
     "metadata": {},
     "output_type": "execute_result"
    }
   ],
   "source": [
    "df_manual.head()"
   ]
  },
  {
   "cell_type": "markdown",
   "metadata": {},
   "source": [
    "Теперь объединим датасеты:"
   ]
  },
  {
   "cell_type": "code",
   "execution_count": 254,
   "metadata": {},
   "outputs": [
    {
     "data": {
      "text/html": [
       "<div>\n",
       "<style scoped>\n",
       "    .dataframe tbody tr th:only-of-type {\n",
       "        vertical-align: middle;\n",
       "    }\n",
       "\n",
       "    .dataframe tbody tr th {\n",
       "        vertical-align: top;\n",
       "    }\n",
       "\n",
       "    .dataframe thead th {\n",
       "        text-align: right;\n",
       "    }\n",
       "</style>\n",
       "<table border=\"1\" class=\"dataframe\">\n",
       "  <thead>\n",
       "    <tr style=\"text-align: right;\">\n",
       "      <th></th>\n",
       "      <th>condition_label</th>\n",
       "      <th>medical_abstract</th>\n",
       "      <th>labeled condition name</th>\n",
       "    </tr>\n",
       "  </thead>\n",
       "  <tbody>\n",
       "    <tr>\n",
       "      <th>0</th>\n",
       "      <td>4</td>\n",
       "      <td>The incidence of deep vein thrombosis after ce...</td>\n",
       "      <td>cardiovascular diseases</td>\n",
       "    </tr>\n",
       "    <tr>\n",
       "      <th>1</th>\n",
       "      <td>5</td>\n",
       "      <td>Adult height in boys and girls with untreated ...</td>\n",
       "      <td>general pathological conditions</td>\n",
       "    </tr>\n",
       "    <tr>\n",
       "      <th>2</th>\n",
       "      <td>5</td>\n",
       "      <td>Palliative treatment of bile duct tumoral comp...</td>\n",
       "      <td>neoplasms</td>\n",
       "    </tr>\n",
       "    <tr>\n",
       "      <th>3</th>\n",
       "      <td>5</td>\n",
       "      <td>Eclampsia. Early detection and hospitalization...</td>\n",
       "      <td>digestive system diseases</td>\n",
       "    </tr>\n",
       "    <tr>\n",
       "      <th>4</th>\n",
       "      <td>1</td>\n",
       "      <td>Efficacy of transesophageal echocardiography a...</td>\n",
       "      <td>cardiovascular diseases</td>\n",
       "    </tr>\n",
       "  </tbody>\n",
       "</table>\n",
       "</div>"
      ],
      "text/plain": [
       "   condition_label                                   medical_abstract  \\\n",
       "0                4  The incidence of deep vein thrombosis after ce...   \n",
       "1                5  Adult height in boys and girls with untreated ...   \n",
       "2                5  Palliative treatment of bile duct tumoral comp...   \n",
       "3                5  Eclampsia. Early detection and hospitalization...   \n",
       "4                1  Efficacy of transesophageal echocardiography a...   \n",
       "\n",
       "            labeled condition name  \n",
       "0          cardiovascular diseases  \n",
       "1  general pathological conditions  \n",
       "2                        neoplasms  \n",
       "3        digestive system diseases  \n",
       "4          cardiovascular diseases  "
      ]
     },
     "execution_count": 254,
     "metadata": {},
     "output_type": "execute_result"
    }
   ],
   "source": [
    "df_common = pd.concat([df_rule, df_manual])\n",
    "df_common.head()"
   ]
  },
  {
   "cell_type": "code",
   "execution_count": 257,
   "metadata": {},
   "outputs": [
    {
     "name": "stdout",
     "output_type": "stream",
     "text": [
      "(11550, 3)\n",
      "0\n"
     ]
    }
   ],
   "source": [
    "print(df_common.shape)\n",
    "print(len(df_common[df_common.duplicated ()]))"
   ]
  },
  {
   "cell_type": "markdown",
   "metadata": {},
   "source": [
    "В результирующем датасете сохранено количество строк и отсутствуют дубликаты"
   ]
  },
  {
   "cell_type": "markdown",
   "metadata": {},
   "source": [
    "Для удобства дальнейшей работы переименуем колонку condition_label в old condition label,  а так же добавим числовые значения, соответствующие размеченным нами данным."
   ]
  },
  {
   "cell_type": "code",
   "execution_count": 258,
   "metadata": {},
   "outputs": [],
   "source": [
    "df_common.rename(columns={'condition_label': 'old condition label'}, inplace=True)\n",
    "assessment_map = {\"neoplasms\": 1, \"digestive system diseases\": 2, \"nervous system diseases\": 3, \"cardiovascular diseases\": 4, \"general pathological conditions\": 5}\n",
    "df_common['new condition label'] = df_common['labeled condition name'].map(assessment_map)"
   ]
  },
  {
   "cell_type": "code",
   "execution_count": 259,
   "metadata": {},
   "outputs": [
    {
     "data": {
      "text/html": [
       "<div>\n",
       "<style scoped>\n",
       "    .dataframe tbody tr th:only-of-type {\n",
       "        vertical-align: middle;\n",
       "    }\n",
       "\n",
       "    .dataframe tbody tr th {\n",
       "        vertical-align: top;\n",
       "    }\n",
       "\n",
       "    .dataframe thead th {\n",
       "        text-align: right;\n",
       "    }\n",
       "</style>\n",
       "<table border=\"1\" class=\"dataframe\">\n",
       "  <thead>\n",
       "    <tr style=\"text-align: right;\">\n",
       "      <th></th>\n",
       "      <th>old condition label</th>\n",
       "      <th>medical_abstract</th>\n",
       "      <th>labeled condition name</th>\n",
       "      <th>new condition label</th>\n",
       "    </tr>\n",
       "  </thead>\n",
       "  <tbody>\n",
       "    <tr>\n",
       "      <th>0</th>\n",
       "      <td>4</td>\n",
       "      <td>The incidence of deep vein thrombosis after ce...</td>\n",
       "      <td>cardiovascular diseases</td>\n",
       "      <td>4</td>\n",
       "    </tr>\n",
       "    <tr>\n",
       "      <th>1</th>\n",
       "      <td>5</td>\n",
       "      <td>Adult height in boys and girls with untreated ...</td>\n",
       "      <td>general pathological conditions</td>\n",
       "      <td>5</td>\n",
       "    </tr>\n",
       "    <tr>\n",
       "      <th>2</th>\n",
       "      <td>5</td>\n",
       "      <td>Palliative treatment of bile duct tumoral comp...</td>\n",
       "      <td>neoplasms</td>\n",
       "      <td>1</td>\n",
       "    </tr>\n",
       "    <tr>\n",
       "      <th>3</th>\n",
       "      <td>5</td>\n",
       "      <td>Eclampsia. Early detection and hospitalization...</td>\n",
       "      <td>digestive system diseases</td>\n",
       "      <td>2</td>\n",
       "    </tr>\n",
       "    <tr>\n",
       "      <th>4</th>\n",
       "      <td>1</td>\n",
       "      <td>Efficacy of transesophageal echocardiography a...</td>\n",
       "      <td>cardiovascular diseases</td>\n",
       "      <td>4</td>\n",
       "    </tr>\n",
       "  </tbody>\n",
       "</table>\n",
       "</div>"
      ],
      "text/plain": [
       "   old condition label                                   medical_abstract  \\\n",
       "0                    4  The incidence of deep vein thrombosis after ce...   \n",
       "1                    5  Adult height in boys and girls with untreated ...   \n",
       "2                    5  Palliative treatment of bile duct tumoral comp...   \n",
       "3                    5  Eclampsia. Early detection and hospitalization...   \n",
       "4                    1  Efficacy of transesophageal echocardiography a...   \n",
       "\n",
       "            labeled condition name  new condition label  \n",
       "0          cardiovascular diseases                    4  \n",
       "1  general pathological conditions                    5  \n",
       "2                        neoplasms                    1  \n",
       "3        digestive system diseases                    2  \n",
       "4          cardiovascular diseases                    4  "
      ]
     },
     "execution_count": 259,
     "metadata": {},
     "output_type": "execute_result"
    }
   ],
   "source": [
    "df_common.head()"
   ]
  }
 ],
 "metadata": {
  "kernelspec": {
   "display_name": "base",
   "language": "python",
   "name": "python3"
  },
  "language_info": {
   "codemirror_mode": {
    "name": "ipython",
    "version": 3
   },
   "file_extension": ".py",
   "mimetype": "text/x-python",
   "name": "python",
   "nbconvert_exporter": "python",
   "pygments_lexer": "ipython3",
   "version": "3.11.5"
  }
 },
 "nbformat": 4,
 "nbformat_minor": 2
}
