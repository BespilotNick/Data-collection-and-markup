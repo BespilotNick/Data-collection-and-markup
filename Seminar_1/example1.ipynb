{
 "cells": [
  {
   "cell_type": "code",
   "execution_count": 2,
   "metadata": {},
   "outputs": [],
   "source": [
    "import json"
   ]
  },
  {
   "cell_type": "code",
   "execution_count": 1,
   "metadata": {},
   "outputs": [],
   "source": [
    "import requests"
   ]
  },
  {
   "cell_type": "code",
   "execution_count": 4,
   "metadata": {},
   "outputs": [
    {
     "name": "stdout",
     "output_type": "stream",
     "text": [
      "Запрос прошёл успешно!\n",
      "{\n",
      "  \"userId\": 1,\n",
      "  \"id\": 1,\n",
      "  \"title\": \"sunt aut facere repellat provident occaecati excepturi optio reprehenderit\",\n",
      "  \"body\": \"quia et suscipit\\nsuscipit recusandae consequuntur expedita et cum\\nreprehenderit molestiae ut ut quas totam\\nnostrum rerum est autem sunt rem eveniet architecto\"\n",
      "}\n"
     ]
    }
   ],
   "source": [
    "response = requests.get(\"https://jsonplaceholder.typicode.com/posts/1\")\n",
    "if response.status_code == 200:\n",
    "    print(f'Запрос прошёл успешно!')\n",
    "    print(response.text)\n",
    "else:\n",
    "    print(f'Запрос прошёл не успешно, код ошибки - {response.status_code}')"
   ]
  },
  {
   "cell_type": "code",
   "execution_count": 5,
   "metadata": {},
   "outputs": [
    {
     "name": "stdout",
     "output_type": "stream",
     "text": [
      "Запрос прошёл успешно!\n",
      "{\n",
      "  \"title\": \"Nikolai\",\n",
      "  \"body\": \"Hello, everybody! This is my first experience in posting using POST-request in Anaconda\",\n",
      "  \"userId\": 1,\n",
      "  \"id\": 101\n",
      "}\n"
     ]
    }
   ],
   "source": [
    "data = {\n",
    "    \"title\": \"Nikolai\",\n",
    "  \"body\": \"Hello, everybody! This is my first experience in posting using POST-request in Anaconda\", \n",
    "  \"userId\": 1\n",
    "}\n",
    "response = requests.post(\"https://jsonplaceholder.typicode.com/posts\", json=data)\n",
    "if response.status_code == 201:\n",
    "    print(f'Запрос прошёл успешно!')\n",
    "    print(response.text)\n",
    "else:\n",
    "    print(f'Запрос прошёл не успешно, код ошибки - {response.status_code}')"
   ]
  },
  {
   "cell_type": "code",
   "execution_count": 7,
   "metadata": {},
   "outputs": [
    {
     "name": "stdout",
     "output_type": "stream",
     "text": [
      "Запрос прошёл успешно!\n",
      "{\n",
      "  \"body\": \"Changed text 04/03/2024\",\n",
      "  \"id\": 1\n",
      "}\n"
     ]
    }
   ],
   "source": [
    "dict = {\n",
    "  \"body\": \"Changed text 04/03/2024\", \n",
    "}\n",
    "response = requests.put(\"https://jsonplaceholder.typicode.com/posts/1\", json=dict)\n",
    "if response.status_code == 200:\n",
    "    print(f'Запрос прошёл успешно!')\n",
    "    print(response.text)\n",
    "else:\n",
    "    print(f'Запрос прошёл не успешно, код ошибки - {response.status_code}')"
   ]
  },
  {
   "cell_type": "code",
   "execution_count": 8,
   "metadata": {},
   "outputs": [
    {
     "name": "stdout",
     "output_type": "stream",
     "text": [
      "Запрос прошёл успешно!\n",
      "{}\n"
     ]
    }
   ],
   "source": [
    "response = requests.delete(\"https://jsonplaceholder.typicode.com/posts/1\")\n",
    "if response.status_code == 200:\n",
    "    print(f'Запрос прошёл успешно!')\n",
    "    print(response.text)\n",
    "else:\n",
    "    print(f'Запрос прошёл не успешно, код ошибки - {response.status_code}')"
   ]
  }
 ],
 "metadata": {
  "kernelspec": {
   "display_name": "venv",
   "language": "python",
   "name": "python3"
  },
  "language_info": {
   "codemirror_mode": {
    "name": "ipython",
    "version": 3
   },
   "file_extension": ".py",
   "mimetype": "text/x-python",
   "name": "python",
   "nbconvert_exporter": "python",
   "pygments_lexer": "ipython3",
   "version": "3.11.7"
  }
 },
 "nbformat": 4,
 "nbformat_minor": 2
}
