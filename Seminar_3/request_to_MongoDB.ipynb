{
 "cells": [
  {
   "cell_type": "code",
   "execution_count": 1,
   "metadata": {},
   "outputs": [
    {
     "name": "stdout",
     "output_type": "stream",
     "text": [
      "{\n",
      "    \"_id\": \"65f1d1f6bbe1e350562fb5fa\",\n",
      "    \"type\": \"Feature\",\n",
      "    \"geometry\": null,\n",
      "    \"properties\": {\n",
      "        \"tamainid\": 48493,\n",
      "        \"location_description\": \"15 FEET FROM US 64 HWY\",\n",
      "        \"rdfeature\": \"FOUR-WAY INTERSECTION\",\n",
      "        \"rdcharacter\": [\n",
      "            \"STRAIGHT\",\n",
      "            \"LEVEL\"\n",
      "        ],\n",
      "        \"rdclass\": [\n",
      "            \"US ROUTE\"\n",
      "        ],\n",
      "        \"rdconfigur\": [\n",
      "            \"TWO-WAY\",\n",
      "            \"DIVIDED\",\n",
      "            \"UNPROTECTED MEDIAN\"\n",
      "        ],\n",
      "        \"rdsurface\": \"SMOOTH ASPHALT\",\n",
      "        \"rdcondition\": \"DRY\",\n",
      "        \"lightcond\": \"DAYLIGHT\",\n",
      "        \"weather\": \"CLEAR\",\n",
      "        \"trafcontrl\": \"STOP AND GO SIGNAL\",\n",
      "        \"lat\": null,\n",
      "        \"lon\": null,\n",
      "        \"lon2\": -78.798201,\n",
      "        \"lat2\": 35.738825,\n",
      "        \"tract\": null,\n",
      "        \"zone\": null,\n",
      "        \"fatality\": 0,\n",
      "        \"possblinj\": 0,\n",
      "        \"numpassengers\": null,\n",
      "        \"numpedestrians\": null,\n",
      "        \"contrcir1_desc\": \"NONE\",\n",
      "        \"contrcir2_desc\": null,\n",
      "        \"contrcir3_desc\": \"NONE\",\n",
      "        \"contrcir4_desc\": null,\n",
      "        \"vehicle1\": \"PASSENGER CAR\",\n",
      "        \"vehicle2\": \"SPORT UTILITY\",\n",
      "        \"vehicle3\": null,\n",
      "        \"vehicle4\": null,\n",
      "        \"vehicle5\": null,\n",
      "        \"workarea\": \"NO\",\n",
      "        \"records\": 20004,\n",
      "        \"ta_date\": \"2021-07-29\",\n",
      "        \"ta_time\": \"9:22:13 AM\",\n",
      "        \"crash_date\": 1627564933,\n",
      "        \"geo_location\": null,\n",
      "        \"year\": \"2021\",\n",
      "        \"fatalities\": \"No\",\n",
      "        \"injuries\": \"No\",\n",
      "        \"month\": \"7\",\n",
      "        \"contrfact1\": \"NONE\",\n",
      "        \"contrfact2\": \"NONE,NONE\",\n",
      "        \"contributing_factor\": [\n",
      "            \"NONE\",\n",
      "            \"NONE\"\n",
      "        ],\n",
      "        \"vehicleconcat1\": \"PASSENGER CAR,SPORT UTILITY\",\n",
      "        \"vehicleconcat2\": \"PASSENGER CAR,SPORT UTILITY\",\n",
      "        \"vehicleconcat3\": \"PASSENGER CAR,SPORT UTILITY\",\n",
      "        \"vehicle_type\": [\n",
      "            \"PASSENGER CAR\",\n",
      "            \"SPORT UTILITY\"\n",
      "        ]\n",
      "    }\n",
      "}\n"
     ]
    }
   ],
   "source": [
    "import json\n",
    "from pymongo import MongoClient\n",
    "\n",
    "client = MongoClient()\n",
    "db = client['town_cary']\n",
    "collection = db['crashes']\n",
    "\n",
    "all_docs = collection.find()\n",
    "first_doc = all_docs[0]\n",
    "\n",
    "pretty_json = json.dumps(first_doc, indent=4, default=str)\n",
    "print(pretty_json)"
   ]
  },
  {
   "cell_type": "code",
   "execution_count": 3,
   "metadata": {},
   "outputs": [
    {
     "name": "stdout",
     "output_type": "stream",
     "text": [
      "Число записей в БД 23482\n"
     ]
    }
   ],
   "source": [
    "count = collection.count_documents({})\n",
    "print(f'Число записей в БД {count}')"
   ]
  },
  {
   "cell_type": "code",
   "execution_count": 4,
   "metadata": {},
   "outputs": [
    {
     "name": "stdout",
     "output_type": "stream",
     "text": [
      "Количество документов с погибшими: 42\n"
     ]
    }
   ],
   "source": [
    "query = {'properties.fatalities': \"Yes\"}\n",
    "print(f'Количество документов с погибшими: {collection.count_documents(query)}')"
   ]
  },
  {
   "cell_type": "code",
   "execution_count": 7,
   "metadata": {},
   "outputs": [
    {
     "name": "stdout",
     "output_type": "stream",
     "text": [
      "Количество документов с категорией month > 6: 5367\n"
     ]
    }
   ],
   "source": [
    "query = {'properties.month': {'$gt': '6'}}\n",
    "print(f'Количество документов с категорией month > 6: {collection.count_documents(query)}')"
   ]
  },
  {
   "cell_type": "code",
   "execution_count": 9,
   "metadata": {},
   "outputs": [
    {
     "name": "stdout",
     "output_type": "stream",
     "text": [
      "Количество документов с категорией month >= 6: 7123\n"
     ]
    }
   ],
   "source": [
    "query = {'properties.month': {'$gte': '6'}}\n",
    "print(f'Количество документов с категорией month >= 6: {collection.count_documents(query)}')"
   ]
  },
  {
   "cell_type": "code",
   "execution_count": 12,
   "metadata": {},
   "outputs": [
    {
     "name": "stdout",
     "output_type": "stream",
     "text": [
      "Количество документов с облака: 2922\n"
     ]
    }
   ],
   "source": [
    "query = {'properties.weather': {'$regex': 'cloudy', '$options': 'i'}}\n",
    "print(f'Количество документов с облака: {collection.count_documents(query)}')"
   ]
  },
  {
   "cell_type": "code",
   "execution_count": 13,
   "metadata": {},
   "outputs": [
    {
     "name": "stdout",
     "output_type": "stream",
     "text": [
      "Количество документов с облака: 17763\n"
     ]
    }
   ],
   "source": [
    "query = {'properties.weather': {'$regex': 'clear', '$options': 'i'}}\n",
    "print(f'Количество документов с облака: {collection.count_documents(query)}')"
   ]
  },
  {
   "cell_type": "code",
   "execution_count": 14,
   "metadata": {},
   "outputs": [
    {
     "name": "stdout",
     "output_type": "stream",
     "text": [
      "Количество документов где дорога класса US ROUTE: 2646\n"
     ]
    }
   ],
   "source": [
    "query = {'properties.rdclass': {'$in': ['US ROUTE']}}\n",
    "print(f'Количество документов где дорога класса US ROUTE: {collection.count_documents(query)}')"
   ]
  },
  {
   "cell_type": "code",
   "execution_count": 17,
   "metadata": {},
   "outputs": [
    {
     "name": "stdout",
     "output_type": "stream",
     "text": [
      "Количество документов где дорога класса Two-Way, Unprotected Madian: 6574\n"
     ]
    }
   ],
   "source": [
    "query = {'properties.rdconfigur': {'$all': ['TWO-WAY', 'UNPROTECTED MEDIAN']}}\n",
    "print(f'Количество документов где дорога класса Two-Way, Unprotected Madian: {collection.count_documents(query)}')"
   ]
  }
 ],
 "metadata": {
  "kernelspec": {
   "display_name": "base",
   "language": "python",
   "name": "python3"
  },
  "language_info": {
   "codemirror_mode": {
    "name": "ipython",
    "version": 3
   },
   "file_extension": ".py",
   "mimetype": "text/x-python",
   "name": "python",
   "nbconvert_exporter": "python",
   "pygments_lexer": "ipython3",
   "version": "3.11.5"
  }
 },
 "nbformat": 4,
 "nbformat_minor": 2
}
