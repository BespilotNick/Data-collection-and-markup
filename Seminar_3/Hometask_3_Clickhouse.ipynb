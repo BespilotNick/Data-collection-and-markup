{
 "cells": [
  {
   "cell_type": "markdown",
   "metadata": {},
   "source": [
    "Задание.\n",
    "\n",
    "2. Загрузите данные в ClickHouse и создайте таблицу для их хранения."
   ]
  },
  {
   "cell_type": "code",
   "execution_count": 1,
   "metadata": {},
   "outputs": [
    {
     "name": "stdout",
     "output_type": "stream",
     "text": [
      "Requirement already satisfied: docker in c:\\users\\allen\\anaconda3\\lib\\site-packages (7.0.0)\n",
      "Requirement already satisfied: packaging>=14.0 in c:\\users\\allen\\anaconda3\\lib\\site-packages (from docker) (23.1)\n",
      "Requirement already satisfied: requests>=2.26.0 in c:\\users\\allen\\anaconda3\\lib\\site-packages (from docker) (2.31.0)\n",
      "Requirement already satisfied: urllib3>=1.26.0 in c:\\users\\allen\\anaconda3\\lib\\site-packages (from docker) (2.0.7)\n",
      "Requirement already satisfied: pywin32>=304 in c:\\users\\allen\\anaconda3\\lib\\site-packages (from docker) (305.1)\n",
      "Requirement already satisfied: charset-normalizer<4,>=2 in c:\\users\\allen\\anaconda3\\lib\\site-packages (from requests>=2.26.0->docker) (2.0.4)\n",
      "Requirement already satisfied: idna<4,>=2.5 in c:\\users\\allen\\anaconda3\\lib\\site-packages (from requests>=2.26.0->docker) (3.4)\n",
      "Requirement already satisfied: certifi>=2017.4.17 in c:\\users\\allen\\anaconda3\\lib\\site-packages (from requests>=2.26.0->docker) (2024.2.2)\n"
     ]
    }
   ],
   "source": [
    "!pip install docker"
   ]
  },
  {
   "cell_type": "code",
   "execution_count": 2,
   "metadata": {},
   "outputs": [
    {
     "name": "stdout",
     "output_type": "stream",
     "text": [
      "Requirement already satisfied: clickhouse_driver in c:\\users\\allen\\anaconda3\\lib\\site-packages (0.2.7)\n",
      "Requirement already satisfied: pytz in c:\\users\\allen\\anaconda3\\lib\\site-packages (from clickhouse_driver) (2023.3.post1)\n",
      "Requirement already satisfied: tzlocal in c:\\users\\allen\\anaconda3\\lib\\site-packages (from clickhouse_driver) (2.1)\n"
     ]
    }
   ],
   "source": [
    "!pip install clickhouse_driver"
   ]
  },
  {
   "cell_type": "code",
   "execution_count": 15,
   "metadata": {},
   "outputs": [
    {
     "name": "stderr",
     "output_type": "stream",
     "text": [
      "docker: Error response from daemon: Conflict. The container name \"/clickhouse-server\" is already in use by container \"b6bfb2ca92e3990875262c1361821e2059134eb9e17b5466d8790451ea49c0bc\". You have to remove (or rename) that container to be able to reuse that name.\n",
      "See 'docker run --help'.\n"
     ]
    }
   ],
   "source": [
    "!docker run -d --name clickhouse-server --ulimit nofile=262144:262144 -p 9000:9000 yandex/clickhouse-server"
   ]
  },
  {
   "cell_type": "code",
   "execution_count": 16,
   "metadata": {},
   "outputs": [
    {
     "name": "stdout",
     "output_type": "stream",
     "text": [
      "[('trips',)]\n"
     ]
    }
   ],
   "source": [
    "from clickhouse_driver import Client\n",
    "\n",
    "client = Client(host='localhost',  # Use 'localhost' or '127.0.0.1' for a local server\n",
    "                user='default',    # Default user, adjust if you've changed the user\n",
    "                password='',       # Default installation has no password for 'default' user\n",
    "                port=9000)         # Default TCP port for ClickHouse\n",
    "\n",
    "# Attempt to execute a query\n",
    "try:\n",
    "    result = client.execute('SHOW TABLES')\n",
    "    print(result)\n",
    "except Exception as e:\n",
    "    print(f\"Encountered an error: {e}\")"
   ]
  },
  {
   "cell_type": "code",
   "execution_count": 19,
   "metadata": {},
   "outputs": [
    {
     "data": {
      "text/plain": [
       "[]"
      ]
     },
     "execution_count": 19,
     "metadata": {},
     "output_type": "execute_result"
    }
   ],
   "source": [
    "client.execute('CREATE DATABASE IF NOT EXISTS scraped_books')"
   ]
  },
  {
   "cell_type": "code",
   "execution_count": 43,
   "metadata": {},
   "outputs": [
    {
     "data": {
      "text/plain": [
       "[('trips',)]"
      ]
     },
     "execution_count": 43,
     "metadata": {},
     "output_type": "execute_result"
    }
   ],
   "source": [
    "client.execute('SHOW TABLES')"
   ]
  },
  {
   "cell_type": "code",
   "execution_count": 42,
   "metadata": {},
   "outputs": [
    {
     "data": {
      "text/plain": [
       "[]"
      ]
     },
     "execution_count": 42,
     "metadata": {},
     "output_type": "execute_result"
    }
   ],
   "source": [
    "client.execute('DROP TABLE IF EXISTS scraped_books.bookshelf')"
   ]
  },
  {
   "cell_type": "code",
   "execution_count": 44,
   "metadata": {},
   "outputs": [
    {
     "name": "stdout",
     "output_type": "stream",
     "text": [
      "Таблица создана успешно.\n"
     ]
    }
   ],
   "source": [
    "client.execute (\n",
    "'''\n",
    "CREATE TABLE IF NOT EXISTS scraped_books.bookshelf\n",
    "(\n",
    "    name String,\n",
    "    price String,\n",
    "    avaiability UInt8,\n",
    "    url String,\n",
    "    quantity UInt8\n",
    ")\n",
    "ENGINE = MergeTree\n",
    "ORDER BY name;\n",
    "'''\n",
    ")\n",
    "\n",
    "print(\"Таблица создана успешно.\")"
   ]
  },
  {
   "cell_type": "code",
   "execution_count": 45,
   "metadata": {},
   "outputs": [],
   "source": [
    "import json"
   ]
  },
  {
   "cell_type": "code",
   "execution_count": 46,
   "metadata": {},
   "outputs": [],
   "source": [
    "with open('D:/GeekBrains/DATA ENGINEER/Сбор и разметка данных/Conda_projects/l2_s2_t2_hw.json', 'r') as file:\n",
    "    data = json.load(file)"
   ]
  },
  {
   "cell_type": "code",
   "execution_count": 47,
   "metadata": {},
   "outputs": [],
   "source": [
    "for dict in data:\n",
    "    client.execute(\"\"\"\n",
    "        INSERT INTO scraped_books.bookshelf (\n",
    "            name, price, avaiability, url, quantity\n",
    "        ) VALUES\"\"\",\n",
    "        [(dict[\"name\"] or \"\",\n",
    "        dict[\"price\"] or \"\",\n",
    "        dict[\"avaiability\"] or \"\",\n",
    "        dict[\"url\"] or \"\",\n",
    "        dict[\"quantity\"] or \"\")])\n",
    "\n",
    "print(\"Данные введены успешно.\")"
   ]
  }
 ],
 "metadata": {
  "kernelspec": {
   "display_name": "base",
   "language": "python",
   "name": "python3"
  },
  "language_info": {
   "codemirror_mode": {
    "name": "ipython",
    "version": 3
   },
   "file_extension": ".py",
   "mimetype": "text/x-python",
   "name": "python",
   "nbconvert_exporter": "python",
   "pygments_lexer": "ipython3",
   "version": "3.11.5"
  }
 },
 "nbformat": 4,
 "nbformat_minor": 2
}
