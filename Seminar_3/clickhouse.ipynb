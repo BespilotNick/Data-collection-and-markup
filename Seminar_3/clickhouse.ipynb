{
 "cells": [
  {
   "cell_type": "code",
   "execution_count": null,
   "id": "b433ead3",
   "metadata": {},
   "outputs": [],
   "source": [
    "!pip install docker"
   ]
  },
  {
   "cell_type": "code",
   "execution_count": null,
   "id": "5f0679c2",
   "metadata": {},
   "outputs": [],
   "source": [
    "!pip install clickhouse_driver"
   ]
  },
  {
   "cell_type": "code",
   "execution_count": 1,
   "id": "fe625436",
   "metadata": {},
   "outputs": [
    {
     "name": "stdout",
     "output_type": "stream",
     "text": [
      "7be3f4c654814d941ef9100b80caa9b14b45dc7ae82e1d45637c3a252593ca76\r\n"
     ]
    }
   ],
   "source": [
    "!docker run -d --name clickhouse-server --ulimit nofile=262144:262144 -p 9000:9000 yandex/clickhouse-server"
   ]
  },
  {
   "cell_type": "code",
   "execution_count": 1,
   "id": "7f8a5544",
   "metadata": {},
   "outputs": [
    {
     "name": "stdout",
     "output_type": "stream",
     "text": [
      "[('trips',)]\n"
     ]
    }
   ],
   "source": [
    "from clickhouse_driver import Client\n",
    "\n",
    "client = Client(host='localhost',  # Use 'localhost' or '127.0.0.1' for a local server\n",
    "                user='default',    # Default user, adjust if you've changed the user\n",
    "                password='',       # Default installation has no password for 'default' user\n",
    "                port=9000)         # Default TCP port for ClickHouse\n",
    "\n",
    "# Attempt to execute a query\n",
    "try:\n",
    "    result = client.execute('SHOW TABLES')\n",
    "    print(result)\n",
    "except Exception as e:\n",
    "    print(f\"Encountered an error: {e}\")"
   ]
  },
  {
   "cell_type": "code",
   "execution_count": 8,
   "id": "b6d5a7ee",
   "metadata": {},
   "outputs": [
    {
     "data": {
      "text/plain": [
       "[]"
      ]
     },
     "execution_count": 8,
     "metadata": {},
     "output_type": "execute_result"
    }
   ],
   "source": [
    "client.execute('SHOW TABLES')"
   ]
  },
  {
   "cell_type": "code",
   "execution_count": 7,
   "id": "82f5007e",
   "metadata": {},
   "outputs": [
    {
     "data": {
      "text/plain": [
       "[]"
      ]
     },
     "execution_count": 7,
     "metadata": {},
     "output_type": "execute_result"
    }
   ],
   "source": [
    "client.execute('DROP TABLE IF EXISTS trips')"
   ]
  },
  {
   "cell_type": "code",
   "execution_count": 9,
   "id": "7504821b",
   "metadata": {},
   "outputs": [
    {
     "data": {
      "text/plain": [
       "[]"
      ]
     },
     "execution_count": 9,
     "metadata": {},
     "output_type": "execute_result"
    }
   ],
   "source": [
    "client.execute (\n",
    "'''\n",
    "CREATE TABLE IF NOT EXISTS trips\n",
    "(\n",
    "    `trip_id` UInt32,\n",
    "    `vendor_id` Enum8('1' = 1, '2' = 2, '3' = 3, '4' = 4, 'CMT' = 5, 'VTS' = 6, 'DDS' = 7, 'B02512' = 10, 'B02598' = 11, 'B02617' = 12, 'B02682' = 13, 'B02764' = 14, '' = 15),\n",
    "    `pickup_date` Date,\n",
    "    `pickup_datetime` DateTime,\n",
    "    `dropoff_date` Date,\n",
    "    `dropoff_datetime` DateTime,\n",
    "    `store_and_fwd_flag` UInt8,\n",
    "    `rate_code_id` UInt8,\n",
    "    `pickup_longitude` Float64,\n",
    "    `pickup_latitude` Float64,\n",
    "    `dropoff_longitude` Float64,\n",
    "    `dropoff_latitude` Float64,\n",
    "    `passenger_count` UInt8,\n",
    "    `trip_distance` Float64,\n",
    "    `fare_amount` Float32,\n",
    "    `extra` Float32,\n",
    "    `mta_tax` Float32,\n",
    "    `tip_amount` Float32,\n",
    "    `tolls_amount` Float32,\n",
    "    `ehail_fee` Float32,\n",
    "    `improvement_surcharge` Float32,\n",
    "    `total_amount` Float32,\n",
    "    `payment_type` Enum8('UNK' = 0, 'CSH' = 1, 'CRE' = 2, 'NOC' = 3, 'DIS' = 4),\n",
    "    `trip_type` UInt8,\n",
    "    `pickup` FixedString(25),\n",
    "    `dropoff` FixedString(25),\n",
    "    `cab_type` Enum8('yellow' = 1, 'green' = 2, 'uber' = 3),\n",
    "    `pickup_nyct2010_gid` Int8,\n",
    "    `pickup_ctlabel` Float32,\n",
    "    `pickup_borocode` Int8,\n",
    "    `pickup_ct2010` String,\n",
    "    `pickup_boroct2010` String,\n",
    "    `pickup_cdeligibil` String,\n",
    "    `pickup_ntacode` FixedString(4),\n",
    "    `pickup_ntaname` String,\n",
    "    `pickup_puma` UInt16,\n",
    "    `dropoff_nyct2010_gid` UInt8,\n",
    "    `dropoff_ctlabel` Float32,\n",
    "    `dropoff_borocode` UInt8,\n",
    "    `dropoff_ct2010` String,\n",
    "    `dropoff_boroct2010` String,\n",
    "    `dropoff_cdeligibil` String,\n",
    "    `dropoff_ntacode` FixedString(4),\n",
    "    `dropoff_ntaname` String,\n",
    "    `dropoff_puma` UInt16\n",
    ")\n",
    "ENGINE = MergeTree\n",
    "PARTITION BY toYYYYMM(pickup_date)\n",
    "ORDER BY pickup_datetime;\n",
    "'''\n",
    ")"
   ]
  },
  {
   "cell_type": "code",
   "execution_count": 10,
   "id": "96ba8f84",
   "metadata": {},
   "outputs": [
    {
     "data": {
      "text/plain": [
       "[('trips',)]"
      ]
     },
     "execution_count": 10,
     "metadata": {},
     "output_type": "execute_result"
    }
   ],
   "source": [
    "client.execute('SHOW TABLES')"
   ]
  },
  {
   "cell_type": "code",
   "execution_count": 11,
   "id": "a6f0f55e",
   "metadata": {},
   "outputs": [
    {
     "data": {
      "text/plain": [
       "[]"
      ]
     },
     "execution_count": 11,
     "metadata": {},
     "output_type": "execute_result"
    }
   ],
   "source": [
    "client.execute(\n",
    "'''\n",
    "INSERT INTO trips\n",
    "SELECT * FROM s3(\n",
    "    'https://datasets-documentation.s3.eu-west-3.amazonaws.com/nyc-taxi/trips_{1..2}.gz',\n",
    "    'TabSeparatedWithNames', \"\n",
    "    `trip_id` UInt32,\n",
    "    `vendor_id` Enum8('1' = 1, '2' = 2, '3' = 3, '4' = 4, 'CMT' = 5, 'VTS' = 6, 'DDS' = 7, 'B02512' = 10, 'B02598' = 11, 'B02617' = 12, 'B02682' = 13, 'B02764' = 14, '' = 15),\n",
    "    `pickup_date` Date,\n",
    "    `pickup_datetime` DateTime,\n",
    "    `dropoff_date` Date,\n",
    "    `dropoff_datetime` DateTime,\n",
    "    `store_and_fwd_flag` UInt8,\n",
    "    `rate_code_id` UInt8,\n",
    "    `pickup_longitude` Float64,\n",
    "    `pickup_latitude` Float64,\n",
    "    `dropoff_longitude` Float64,\n",
    "    `dropoff_latitude` Float64,\n",
    "    `passenger_count` UInt8,\n",
    "    `trip_distance` Float64,\n",
    "    `fare_amount` Float32,\n",
    "    `extra` Float32,\n",
    "    `mta_tax` Float32,\n",
    "    `tip_amount` Float32,\n",
    "    `tolls_amount` Float32,\n",
    "    `ehail_fee` Float32,\n",
    "    `improvement_surcharge` Float32,\n",
    "    `total_amount` Float32,\n",
    "    `payment_type` Enum8('UNK' = 0, 'CSH' = 1, 'CRE' = 2, 'NOC' = 3, 'DIS' = 4),\n",
    "    `trip_type` UInt8,\n",
    "    `pickup` FixedString(25),\n",
    "    `dropoff` FixedString(25),\n",
    "    `cab_type` Enum8('yellow' = 1, 'green' = 2, 'uber' = 3),\n",
    "    `pickup_nyct2010_gid` Int8,\n",
    "    `pickup_ctlabel` Float32,\n",
    "    `pickup_borocode` Int8,\n",
    "    `pickup_ct2010` String,\n",
    "    `pickup_boroct2010` String,\n",
    "    `pickup_cdeligibil` String,\n",
    "    `pickup_ntacode` FixedString(4),\n",
    "    `pickup_ntaname` String,\n",
    "    `pickup_puma` UInt16,\n",
    "    `dropoff_nyct2010_gid` UInt8,\n",
    "    `dropoff_ctlabel` Float32,\n",
    "    `dropoff_borocode` UInt8,\n",
    "    `dropoff_ct2010` String,\n",
    "    `dropoff_boroct2010` String,\n",
    "    `dropoff_cdeligibil` String,\n",
    "    `dropoff_ntacode` FixedString(4),\n",
    "    `dropoff_ntaname` String,\n",
    "    `dropoff_puma` UInt16\n",
    "\")\n",
    "'''\n",
    ")"
   ]
  },
  {
   "cell_type": "code",
   "execution_count": 12,
   "id": "3808ee71",
   "metadata": {},
   "outputs": [
    {
     "data": {
      "text/plain": [
       "[(1999657,)]"
      ]
     },
     "execution_count": 12,
     "metadata": {},
     "output_type": "execute_result"
    }
   ],
   "source": [
    "client.execute(\"SELECT count() FROM trips\")"
   ]
  },
  {
   "cell_type": "code",
   "execution_count": 13,
   "id": "d8853abd",
   "metadata": {},
   "outputs": [
    {
     "name": "stdout",
     "output_type": "stream",
     "text": [
      "[(1.68,)]\n"
     ]
    }
   ],
   "source": [
    "tip_amount = client.execute(\"SELECT round(avg(tip_amount), 2) FROM trips\")  \n",
    "print(tip_amount)"
   ]
  },
  {
   "cell_type": "code",
   "execution_count": 14,
   "id": "b33a266f",
   "metadata": {},
   "outputs": [
    {
     "data": {
      "text/plain": [
       "list"
      ]
     },
     "execution_count": 14,
     "metadata": {},
     "output_type": "execute_result"
    }
   ],
   "source": [
    "type(tip_amount)"
   ]
  },
  {
   "cell_type": "code",
   "execution_count": 15,
   "id": "8c49efc8",
   "metadata": {},
   "outputs": [
    {
     "data": {
      "text/plain": [
       "1.68"
      ]
     },
     "execution_count": 15,
     "metadata": {},
     "output_type": "execute_result"
    }
   ],
   "source": [
    "tip_amount[0][0]"
   ]
  },
  {
   "cell_type": "code",
   "execution_count": 16,
   "id": "08319d8d",
   "metadata": {},
   "outputs": [],
   "source": [
    "avg_price = client.execute(\n",
    "'''\n",
    "SELECT\n",
    "    passenger_count,\n",
    "    ceil(avg(total_amount),2) AS average_total_amount\n",
    "FROM trips\n",
    "GROUP BY passenger_count\n",
    "'''\n",
    ")"
   ]
  },
  {
   "cell_type": "code",
   "execution_count": 17,
   "id": "860285a9",
   "metadata": {},
   "outputs": [],
   "source": [
    "import pandas as pd"
   ]
  },
  {
   "cell_type": "code",
   "execution_count": 18,
   "id": "9af81d2b",
   "metadata": {},
   "outputs": [],
   "source": [
    "df = pd.DataFrame(avg_price, columns=(\"passenger_count\", \"average_total_amount\"))"
   ]
  },
  {
   "cell_type": "code",
   "execution_count": 19,
   "id": "ef12f98b",
   "metadata": {},
   "outputs": [
    {
     "data": {
      "text/html": [
       "<div>\n",
       "<style scoped>\n",
       "    .dataframe tbody tr th:only-of-type {\n",
       "        vertical-align: middle;\n",
       "    }\n",
       "\n",
       "    .dataframe tbody tr th {\n",
       "        vertical-align: top;\n",
       "    }\n",
       "\n",
       "    .dataframe thead th {\n",
       "        text-align: right;\n",
       "    }\n",
       "</style>\n",
       "<table border=\"1\" class=\"dataframe\">\n",
       "  <thead>\n",
       "    <tr style=\"text-align: right;\">\n",
       "      <th></th>\n",
       "      <th>passenger_count</th>\n",
       "      <th>average_total_amount</th>\n",
       "    </tr>\n",
       "  </thead>\n",
       "  <tbody>\n",
       "    <tr>\n",
       "      <th>0</th>\n",
       "      <td>0</td>\n",
       "      <td>22.69</td>\n",
       "    </tr>\n",
       "    <tr>\n",
       "      <th>1</th>\n",
       "      <td>1</td>\n",
       "      <td>15.97</td>\n",
       "    </tr>\n",
       "    <tr>\n",
       "      <th>2</th>\n",
       "      <td>2</td>\n",
       "      <td>17.15</td>\n",
       "    </tr>\n",
       "    <tr>\n",
       "      <th>3</th>\n",
       "      <td>3</td>\n",
       "      <td>16.76</td>\n",
       "    </tr>\n",
       "    <tr>\n",
       "      <th>4</th>\n",
       "      <td>4</td>\n",
       "      <td>17.33</td>\n",
       "    </tr>\n",
       "    <tr>\n",
       "      <th>5</th>\n",
       "      <td>5</td>\n",
       "      <td>16.35</td>\n",
       "    </tr>\n",
       "    <tr>\n",
       "      <th>6</th>\n",
       "      <td>6</td>\n",
       "      <td>16.04</td>\n",
       "    </tr>\n",
       "    <tr>\n",
       "      <th>7</th>\n",
       "      <td>7</td>\n",
       "      <td>59.80</td>\n",
       "    </tr>\n",
       "    <tr>\n",
       "      <th>8</th>\n",
       "      <td>8</td>\n",
       "      <td>36.41</td>\n",
       "    </tr>\n",
       "    <tr>\n",
       "      <th>9</th>\n",
       "      <td>9</td>\n",
       "      <td>9.81</td>\n",
       "    </tr>\n",
       "  </tbody>\n",
       "</table>\n",
       "</div>"
      ],
      "text/plain": [
       "   passenger_count  average_total_amount\n",
       "0                0                 22.69\n",
       "1                1                 15.97\n",
       "2                2                 17.15\n",
       "3                3                 16.76\n",
       "4                4                 17.33\n",
       "5                5                 16.35\n",
       "6                6                 16.04\n",
       "7                7                 59.80\n",
       "8                8                 36.41\n",
       "9                9                  9.81"
      ]
     },
     "execution_count": 19,
     "metadata": {},
     "output_type": "execute_result"
    }
   ],
   "source": [
    "df"
   ]
  },
  {
   "cell_type": "code",
   "execution_count": 20,
   "id": "9a5a87d7",
   "metadata": {},
   "outputs": [],
   "source": [
    "pickup_num = client.execute(\n",
    "'''\n",
    "SELECT\n",
    "    pickup_date,\n",
    "    pickup_ntaname,\n",
    "    SUM(1) AS number_of_trips\n",
    "FROM trips\n",
    "GROUP BY pickup_date, pickup_ntaname\n",
    "ORDER BY pickup_date ASC\n",
    "'''\n",
    ")"
   ]
  },
  {
   "cell_type": "code",
   "execution_count": null,
   "id": "202fc249",
   "metadata": {},
   "outputs": [],
   "source": [
    "df = pd.DataFrame(pickup_num, columns=(\"pickup_date\", \"pickup_ntaname\", \"number_of_trips\"))\n",
    "df"
   ]
  },
  {
   "cell_type": "code",
   "execution_count": null,
   "id": "3bbc8896",
   "metadata": {},
   "outputs": [],
   "source": [
    "trip_minutes = client.execute(\n",
    "'''\n",
    "SELECT\n",
    "    avg(tip_amount) AS avg_tip,\n",
    "    avg(fare_amount) AS avg_fare,\n",
    "    avg(passenger_count) AS avg_passenger,\n",
    "    count() AS count,\n",
    "    truncate(date_diff('second', pickup_datetime, dropoff_datetime)/3600) as trip_minutes\n",
    "FROM trips\n",
    "WHERE trip_minutes > 0\n",
    "GROUP BY trip_minutes\n",
    "ORDER BY trip_minutes DESC\n",
    "'''\n",
    ")"
   ]
  },
  {
   "cell_type": "code",
   "execution_count": null,
   "id": "d47682e2",
   "metadata": {},
   "outputs": [],
   "source": [
    "df = pd.DataFrame(trip_minutes, columns=(\"avg_tip\", \"avg_fare\", \"avg_passenger\", \"count\", \"trip_minutes\"))\n",
    "df"
   ]
  },
  {
   "cell_type": "code",
   "execution_count": null,
   "id": "93a48c51",
   "metadata": {},
   "outputs": [],
   "source": []
  }
 ],
 "metadata": {
  "kernelspec": {
   "display_name": "Python 3 (ipykernel)",
   "language": "python",
   "name": "python3"
  },
  "language_info": {
   "codemirror_mode": {
    "name": "ipython",
    "version": 3
   },
   "file_extension": ".py",
   "mimetype": "text/x-python",
   "name": "python",
   "nbconvert_exporter": "python",
   "pygments_lexer": "ipython3",
   "version": "3.11.5"
  }
 },
 "nbformat": 4,
 "nbformat_minor": 5
}
