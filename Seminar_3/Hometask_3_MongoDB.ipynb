{
 "cells": [
  {
   "cell_type": "markdown",
   "metadata": {},
   "source": [
    "Задание.\n",
    "\n",
    "1. Загрузите данные который вы получили на предыдущем уроке путем скрейпинга сайта с помощью Buautiful Soup в MongoDB и создайте базу данных и коллекции для их хранения.\n",
    "    Поэкспериментируйте с различными методами запросов."
   ]
  },
  {
   "cell_type": "code",
   "execution_count": 1,
   "metadata": {},
   "outputs": [],
   "source": [
    "import json\n",
    "from pymongo import MongoClient"
   ]
  },
  {
   "cell_type": "code",
   "execution_count": 3,
   "metadata": {},
   "outputs": [
    {
     "name": "stdout",
     "output_type": "stream",
     "text": [
      "Данные успешно вставлены.\n"
     ]
    }
   ],
   "source": [
    "# Подключение к серверу MongoDB\n",
    "client = MongoClient('mongodb://localhost:27017/')\n",
    "\n",
    "# Выбор базы данных и коллекции\n",
    "db = client['scraped_books']\n",
    "collection = db['bookshelf']\n",
    "\n",
    "# Чтение файла JSON\n",
    "with open('D:/GeekBrains/DATA ENGINEER/Сбор и разметка данных/Conda_projects/l2_s2_t2_hw.json', 'r') as file:\n",
    "    data = json.load(file)\n",
    "\n",
    "collection.insert_many(data)\n",
    "\n",
    "print(\"Данные успешно вставлены.\")\n"
   ]
  },
  {
   "cell_type": "code",
   "execution_count": 4,
   "metadata": {},
   "outputs": [
    {
     "name": "stdout",
     "output_type": "stream",
     "text": [
      "{\n",
      "    \"_id\": \"65f3052e5eb04bc015dc2748\",\n",
      "    \"name\": \"A Light in the Attic\",\n",
      "    \"price\": \"51.77\",\n",
      "    \"avaiability\": 1,\n",
      "    \"url\": \"/catalogue/a-light-in-the-attic_1000/index.html\",\n",
      "    \"quantity\": 22\n",
      "}\n"
     ]
    }
   ],
   "source": [
    "client = MongoClient()\n",
    "db = client['scraped_books']\n",
    "collection = db['bookshelf']\n",
    "\n",
    "all_docs = collection.find()\n",
    "first_doc = all_docs[0]\n",
    "\n",
    "pretty_json = json.dumps(first_doc, indent=4, default=str)\n",
    "print(pretty_json)"
   ]
  },
  {
   "cell_type": "code",
   "execution_count": 5,
   "metadata": {},
   "outputs": [
    {
     "name": "stdout",
     "output_type": "stream",
     "text": [
      "Число записей в БД 1000\n"
     ]
    }
   ],
   "source": [
    "count = collection.count_documents({})\n",
    "print(f'Число записей в БД {count}')"
   ]
  },
  {
   "cell_type": "code",
   "execution_count": 6,
   "metadata": {},
   "outputs": [
    {
     "name": "stdout",
     "output_type": "stream",
     "text": [
      "Количество книг стоимостью более 25: 701\n"
     ]
    }
   ],
   "source": [
    "query = {'price': {'$gt': '25'}}\n",
    "print(f'Количество книг стоимостью более 25: {collection.count_documents(query)}')"
   ]
  },
  {
   "cell_type": "code",
   "execution_count": 7,
   "metadata": {},
   "outputs": [
    {
     "name": "stdout",
     "output_type": "stream",
     "text": [
      "Количество книг стоимостью 50 и менее: 802\n"
     ]
    }
   ],
   "source": [
    "query = {'price': {'$lte': '50'}}\n",
    "print(f'Количество книг стоимостью 50 и менее: {collection.count_documents(query)}')"
   ]
  },
  {
   "cell_type": "code",
   "execution_count": 8,
   "metadata": {},
   "outputs": [
    {
     "name": "stdout",
     "output_type": "stream",
     "text": [
      "Количество книг которых в наличии 11 или более: 418\n"
     ]
    }
   ],
   "source": [
    "query = {'quantity': {'$gte': 11}}\n",
    "print(f'Количество книг которых в наличии 11 или более: {collection.count_documents(query)}')"
   ]
  },
  {
   "cell_type": "code",
   "execution_count": 9,
   "metadata": {},
   "outputs": [
    {
     "name": "stdout",
     "output_type": "stream",
     "text": [
      "Количество книг которых в наличии менее 20: 995\n"
     ]
    }
   ],
   "source": [
    "query = {'quantity': {'$lt': 20}}\n",
    "print(f'Количество книг которых в наличии менее 20: {collection.count_documents(query)}')"
   ]
  },
  {
   "cell_type": "code",
   "execution_count": 10,
   "metadata": {},
   "outputs": [
    {
     "name": "stdout",
     "output_type": "stream",
     "text": [
      "Количество книг в наличии: 1000\n"
     ]
    }
   ],
   "source": [
    "query = {'avaiability': {'$gte': 1}}\n",
    "print(f'Количество книг в наличии: {collection.count_documents(query)}')"
   ]
  }
 ],
 "metadata": {
  "kernelspec": {
   "display_name": "base",
   "language": "python",
   "name": "python3"
  },
  "language_info": {
   "codemirror_mode": {
    "name": "ipython",
    "version": 3
   },
   "file_extension": ".py",
   "mimetype": "text/x-python",
   "name": "python",
   "nbconvert_exporter": "python",
   "pygments_lexer": "ipython3",
   "version": "3.11.5"
  }
 },
 "nbformat": 4,
 "nbformat_minor": 2
}
