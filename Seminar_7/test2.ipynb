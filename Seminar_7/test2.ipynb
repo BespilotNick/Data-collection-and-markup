{
 "cells": [
  {
   "cell_type": "code",
   "execution_count": 1,
   "metadata": {},
   "outputs": [],
   "source": [
    "import requests\n",
    "import os\n",
    "import shutil\n",
    "from bs4 import BeautifulSoup\n",
    "from urllib.parse import urljoin\n",
    "from selenium import webdriver\n",
    "from selenium.webdriver.common.by import By\n",
    "from selenium.webdriver.chrome.options import Options\n",
    "from selenium.webdriver.support.ui import WebDriverWait\n",
    "from selenium.webdriver.support import expected_conditions as ec\n",
    "import time\n",
    "import json\n",
    "import csv\n",
    "\n",
    "USER_AGENT = 'Mozilla/5.0 (Windows NT 10.0; Win64; x64) AppleWebKit/537.36 (KHTML, like Gecko) Chrome/120.0.0.0 YaBrowser/24.1.0.0 Safari/537.36'\n",
    "main_page_url = \"https://unsplash.com\"\n",
    "chrome_options = Options()\n",
    "chrome_options.add_argument(f'user-agent={USER_AGENT}')\n",
    "browser = webdriver.Chrome()"
   ]
  },
  {
   "cell_type": "code",
   "execution_count": 15,
   "metadata": {},
   "outputs": [
    {
     "name": "stdout",
     "output_type": "stream",
     "text": [
      "20\n",
      "['https://unsplash.com/photos/a-woman-standing-in-front-of-a-broken-window-KNAJVhxp7gU', 'https://unsplash.com/photos/a-black-and-white-drawing-of-a-city-street-GUH3Gn-rpvw', 'https://unsplash.com/photos/a-black-and-white-photo-of-two-people-holding-hands-7GsqbLkyujY', 'https://unsplash.com/photos/a-black-and-white-photo-of-a-man-kissing-a-woman-Yka-XyXty0M', 'https://unsplash.com/photos/a-man-with-a-beard-and-glasses-posing-for-a-picture-S7W3cTy43RY', 'https://unsplash.com/photos/a-black-and-white-photo-of-snow-covered-trees-laqRbdHQj9Y', 'https://unsplash.com/photos/a-black-and-white-photo-of-flowers-in-a-vase-WAyJUfGa9n4', 'https://unsplash.com/photos/a-black-and-white-photo-of-a-wall-1NQWxSK-Q0Y', 'https://unsplash.com/photos/a-black-and-white-photo-of-a-cactus-in-the-desert-z6MFNlnE8Gs', 'https://unsplash.com/photos/a-black-and-white-photo-of-a-building-ENBbE0uGYgs', 'https://unsplash.com/photos/a-black-and-white-photo-of-a-lighthouse-QX_7m4Lh2qg', 'https://unsplash.com/photos/a-shell-floating-on-top-of-a-body-of-water-VmHrITjw1Pk', 'https://unsplash.com/photos/a-bunch-of-black-balloons-floating-in-the-air-_57a6NBSv2Y', 'https://unsplash.com/photos/a-woman-standing-on-a-bridge-near-a-body-of-water-HepriAO9aT4', 'https://unsplash.com/photos/a-black-and-white-photo-of-a-staircase-9XNJHub5g0k', 'https://unsplash.com/photos/a-black-and-white-photo-of-a-woman-with-a-flower-in-her-mouth-gUlro2_oEtw', 'https://unsplash.com/photos/a-black-and-white-photo-of-a-man-and-a-woman-qgtzM2k--TQ', 'https://unsplash.com/photos/an-abstract-white-background-with-wavy-lines-u2ub75yX54o', 'https://unsplash.com/photos/a-black-and-white-photo-of-a-giraffe-F3wDg799GgQ', 'https://unsplash.com/photos/a-black-and-white-photo-of-a-man-with-his-face-painted-oDmISH-0rLk']\n"
     ]
    }
   ],
   "source": [
    "def get_full_page(url: str):\n",
    "    try:\n",
    "        browser.get('https://unsplash.com/t/black-and-white')\n",
    "        WebDriverWait(browser, 10).until(ec.presence_of_all_elements_located((By.TAG_NAME, 'body')))\n",
    "        page_height = browser.execute_script(\"return document.documentElement.scrollHeight\")\n",
    "\n",
    "        PAUSE_TIME = 4\n",
    "        time.sleep(PAUSE_TIME)\n",
    "\n",
    "        SCROLL_PAUSE_TIME = 1\n",
    "        last_height = page_height\n",
    "        while True:\n",
    "            browser.execute_script(\"window.scrollTo(0, document.documentElement.scrollHeight);\")\n",
    "            time.sleep(SCROLL_PAUSE_TIME)\n",
    "            new_height = browser.execute_script(\"return document.documentElement.scrollHeight\")\n",
    "            if new_height == last_height:\n",
    "                break\n",
    "            last_height = new_height\n",
    "\n",
    "        links = []\n",
    "\n",
    "        pages_paths = '//div[@class=\"ripi6\"]/figure//div[@class=\"zmDAx\"]/a'\n",
    "\n",
    "        pages_links = browser.find_elements(By.XPATH, pages_paths)\n",
    "        for el in pages_links:\n",
    "            links.append(el.get_attribute('href'))\n",
    "\n",
    "    except Exception as E:\n",
    "        print(f'Произошла ошибка, {E}')\n",
    "    finally:\n",
    "        browser.quit()\n",
    "    print(links)"
   ]
  }
 ],
 "metadata": {
  "kernelspec": {
   "display_name": "base",
   "language": "python",
   "name": "python3"
  },
  "language_info": {
   "codemirror_mode": {
    "name": "ipython",
    "version": 3
   },
   "file_extension": ".py",
   "mimetype": "text/x-python",
   "name": "python",
   "nbconvert_exporter": "python",
   "pygments_lexer": "ipython3",
   "version": "3.11.5"
  }
 },
 "nbformat": 4,
 "nbformat_minor": 2
}
